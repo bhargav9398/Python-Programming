{
 "cells": [
  {
   "cell_type": "code",
   "execution_count": null,
   "id": "f66d8613-077c-400d-948d-5bbef9250da8",
   "metadata": {},
   "outputs": [],
   "source": [
    "1. In the below elements which of them are values or an expression? eg values can be integer or string and expression will be mathematical operators.\n",
    "\n",
    "\n",
    "\"hello\"-87.8\n",
    "\n",
    "\n",
    "Ans) in the above expression hello is the value and -87.8 is the expression\n"
   ]
  },
  {
   "cell_type": "code",
   "execution_count": null,
   "id": "11e1823c-f7f5-494e-9204-6486e63b0ca3",
   "metadata": {},
   "outputs": [],
   "source": [
    "2. What is the difference between string and variable?\n",
    "\n",
    "Variable: a variable is name that just refers value stored in the memory\n",
    "String: Collection of characters which is enclosed in quotes"
   ]
  },
  {
   "cell_type": "code",
   "execution_count": null,
   "id": "92ad401e-b0c5-4918-a086-85a787a1035d",
   "metadata": {},
   "outputs": [],
   "source": [
    "3. Describe three different daata types\n",
    "\n",
    "Int: integer refers a number\n",
    "ex: 1,2,21,345\n",
    "Float: float refers a decimal point numbers\n",
    "ex: 1.1,2.2,34.2\n",
    "String: collection of characters which is enclosed in quots\n",
    "ex: \"Bhargav\"\n"
   ]
  },
  {
   "cell_type": "code",
   "execution_count": null,
   "id": "3af5e461-4947-4332-bbae-dc2b0b694a56",
   "metadata": {},
   "outputs": [],
   "source": [
    "4. This assignment statements,like spam =10. What is the difference between an expression and a statement?\n",
    "\n",
    "spam=10  means  the value 10 is assigned to spam variable by using assignment operator\n"
   ]
  },
  {
   "cell_type": "code",
   "execution_count": null,
   "id": "9bc81b14-e36a-405e-981d-07f5c28696c5",
   "metadata": {},
   "outputs": [],
   "source": [
    "5. After running the following code, what does the variable bacon contain? bacon=22\n",
    "bacon+1\n"
   ]
  },
  {
   "cell_type": "code",
   "execution_count": 2,
   "id": "635fd7f6-41c4-4c54-a600-f6270f7c826b",
   "metadata": {},
   "outputs": [
    {
     "data": {
      "text/plain": [
       "23"
      ]
     },
     "execution_count": 2,
     "metadata": {},
     "output_type": "execute_result"
    }
   ],
   "source": [
    "bacon=22\n",
    "bacon+1"
   ]
  },
  {
   "cell_type": "code",
   "execution_count": 3,
   "id": "c5124f4b-c647-4c7c-8000-77292d485a7d",
   "metadata": {},
   "outputs": [
    {
     "data": {
      "text/plain": [
       "22"
      ]
     },
     "execution_count": 3,
     "metadata": {},
     "output_type": "execute_result"
    }
   ],
   "source": [
    "bacon"
   ]
  },
  {
   "cell_type": "markdown",
   "id": "383b9163-ceef-4ad7-8aef-82f3ce0e776c",
   "metadata": {},
   "source": [
    "bacon value will change when we done any operation"
   ]
  },
  {
   "cell_type": "code",
   "execution_count": null,
   "id": "f38e73a9-319d-4fd5-8c50-308386e6fc95",
   "metadata": {},
   "outputs": [],
   "source": [
    "7. What should the values of the following two terms be?\n",
    "\n",
    "\"spam\"+\"spamspam\"\n",
    "\"spam\"*3"
   ]
  },
  {
   "cell_type": "code",
   "execution_count": 4,
   "id": "2334156b-d39e-4242-943f-015f737ea3a6",
   "metadata": {},
   "outputs": [
    {
     "name": "stdout",
     "output_type": "stream",
     "text": [
      "spamspamspam\n"
     ]
    }
   ],
   "source": [
    "print(\"spam\"+\"spamspam\")# it is also known as string concatination"
   ]
  },
  {
   "cell_type": "code",
   "execution_count": 5,
   "id": "bd5005b9-b631-494b-9c25-9899ddd0efa6",
   "metadata": {},
   "outputs": [
    {
     "name": "stdout",
     "output_type": "stream",
     "text": [
      "spamspamspam\n"
     ]
    }
   ],
   "source": [
    "print(\"spam\"*3)"
   ]
  },
  {
   "cell_type": "code",
   "execution_count": null,
   "id": "94813e43-efe1-4048-a2fa-8fdf27505b97",
   "metadata": {},
   "outputs": [],
   "source": [
    "8. Why is eggs a valid variable name while 100 is invalid?\n",
    "ans) because there is a rule in variables concept ie variable should not start with digit or number\n"
   ]
  },
  {
   "cell_type": "code",
   "execution_count": null,
   "id": "c465b253-c03d-47bd-9e2b-6641c680b295",
   "metadata": {},
   "outputs": [],
   "source": [
    "9. Whatt are the three functions can be used to gett the integer, floating-point number,or string version of value?\n",
    "\n"
   ]
  },
  {
   "cell_type": "code",
   "execution_count": 4,
   "id": "e02c442d-a027-4159-b7c2-3b6d91d4148a",
   "metadata": {},
   "outputs": [
    {
     "name": "stdin",
     "output_type": "stream",
     "text": [
      "enter the input 12\n"
     ]
    },
    {
     "name": "stdout",
     "output_type": "stream",
     "text": [
      "<class 'str'>\n",
      "after typecasting\n",
      "<class 'int'>\n"
     ]
    }
   ],
   "source": [
    "#string\n",
    "s=input(\"enter the input\")#by default it will take as string\n",
    "print(type(s))\n",
    "print(\"after typecasting\")\n",
    "st=int(s)\n",
    "print(type(st))"
   ]
  },
  {
   "cell_type": "code",
   "execution_count": 1,
   "id": "f2758750-c9e4-433a-9c6f-dafaeb59d76f",
   "metadata": {},
   "outputs": [
    {
     "name": "stdin",
     "output_type": "stream",
     "text": [
      "enter the input 1\n"
     ]
    }
   ],
   "source": [
    "#integer\n",
    "i=int(input(\"enter the input\"))  # it take interger as input beccouse we mentioned int\n"
   ]
  },
  {
   "cell_type": "code",
   "execution_count": null,
   "id": "badc026e-e746-4d64-8db8-cb6645bc691f",
   "metadata": {},
   "outputs": [],
   "source": [
    "#float\n",
    "\n",
    "f=float(input(\"enter the input\"))  #it take floating value as input"
   ]
  },
  {
   "cell_type": "code",
   "execution_count": null,
   "id": "5ee9a7f1-2d5d-4fcb-9530-1f6eab812257",
   "metadata": {},
   "outputs": [],
   "source": []
  }
 ],
 "metadata": {
  "kernelspec": {
   "display_name": "Python [conda env:base] *",
   "language": "python",
   "name": "conda-base-py"
  },
  "language_info": {
   "codemirror_mode": {
    "name": "ipython",
    "version": 3
   },
   "file_extension": ".py",
   "mimetype": "text/x-python",
   "name": "python",
   "nbconvert_exporter": "python",
   "pygments_lexer": "ipython3",
   "version": "3.12.7"
  }
 },
 "nbformat": 4,
 "nbformat_minor": 5
}
