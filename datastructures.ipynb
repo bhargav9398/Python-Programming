{
 "cells": [
  {
   "cell_type": "code",
   "execution_count": null,
   "id": "262591ea-1868-40b1-b6c0-67b0847363ca",
   "metadata": {},
   "outputs": [],
   "source": [
    "Data Structures  :- Way to store and organize data\n",
    "Lists , Tuples, Dictionary, Sets"
   ]
  },
  {
   "cell_type": "code",
   "execution_count": null,
   "id": "59ad37cf-ebcf-4b9e-8d43-6cced16f1178",
   "metadata": {},
   "outputs": [],
   "source": [
    "Mutable-changable     saved in same location either it will do some operations also\n",
    "Immutable=not changable       saved in different location if we done any operations"
   ]
  },
  {
   "cell_type": "code",
   "execution_count": null,
   "id": "be29a15a-2d2a-4257-880e-4c601da6c752",
   "metadata": {},
   "outputs": [],
   "source": [
    "Lists-(mutable)-list is a collection of data types ex: my_list=[1,2,3,\"apple\",\"banana\",3]\n",
    "common List Operations\n",
    "append, remove\n",
    "listt is mutabel ie it cannot change the address after doing any operations\n",
    "list is denoted by []"
   ]
  },
  {
   "cell_type": "code",
   "execution_count": 2,
   "id": "25d1b412-5e29-41f5-a982-d68b29730fc1",
   "metadata": {},
   "outputs": [
    {
     "name": "stdout",
     "output_type": "stream",
     "text": [
      "<class 'str'>\n",
      "<class 'int'>\n"
     ]
    }
   ],
   "source": [
    "age=\"48\"\n",
    "print(type(age))\n",
    "age=int(age)\n",
    "print(type(age))"
   ]
  },
  {
   "cell_type": "code",
   "execution_count": 4,
   "id": "e2b24c56-bad4-4fbc-a980-a965cef6c5ac",
   "metadata": {},
   "outputs": [
    {
     "data": {
      "text/plain": [
       "[1, 2, 3, 'apple', 'banana', 3]"
      ]
     },
     "execution_count": 4,
     "metadata": {},
     "output_type": "execute_result"
    }
   ],
   "source": [
    "my_list=[1,2,3,\"apple\",\"banana\",3]\n",
    "my_list"
   ]
  },
  {
   "cell_type": "code",
   "execution_count": null,
   "id": "93fde783-0ca1-419b-a945-dc4da9b18e27",
   "metadata": {},
   "outputs": [],
   "source": [
    "Tuples\n",
    "Python Tuple is a collection of Python objects much like a list but,\n",
    "Tuple is immutable ie it will change the address\n",
    "The elements in the tuple cannot be addded or removed\n",
    "It can contain multiple items with same value\n",
    "It can hold any tpe of data and allows duplicate values.\n",
    "tuple is used paranthesis()\n",
    "my_tuple=(1,2,3,\"apple\",banana)"
   ]
  },
  {
   "cell_type": "code",
   "execution_count": null,
   "id": "d1961abf-6dbb-48b7-80b9-9e517bb74250",
   "metadata": {},
   "outputs": [],
   "source": [
    "Difference between list and tuple\n",
    "\n",
    "List                                                                  Tuple\n",
    "Mutable (can be changed)                                       Immutable(cannot be changed)\n",
    "Defined using [] (square bracckets)                            defined by using ()\n",
    "slower due to mutability                                       faster due immutability\n",
    "takes more memory                                              takes less memory                            \n",
    "supports insertions, deletions,updates                         fixed once created, no modifictions allowed\n",
    "suitable for dynamic data                                      suitable for fixed read only data                                     \n",
    "iteration speed is slower                                      iteration speed is faster\n",
    "more methods like append(),remove(),                           fewer methods (count(),index())\n",
    "sort()."
   ]
  },
  {
   "cell_type": "code",
   "execution_count": 15,
   "id": "ec50a1cb-59b3-48ec-b72e-bd98500cb086",
   "metadata": {},
   "outputs": [
    {
     "name": "stdout",
     "output_type": "stream",
     "text": [
      "('karthik', 'noor', 'sai')\n"
     ]
    }
   ],
   "source": [
    "#basic tuple\n",
    "my_list=(\"karthik\",\"noor\",\"sai\")\n",
    "print(my_list)"
   ]
  },
  {
   "cell_type": "code",
   "execution_count": 16,
   "id": "3d1a9fb3-3f4c-448f-b83b-3c8b849094f7",
   "metadata": {},
   "outputs": [
    {
     "name": "stdout",
     "output_type": "stream",
     "text": [
      "(1, 2, 3, 'apple', 'banana', 3)\n"
     ]
    }
   ],
   "source": [
    "# tuple with mixed data \n",
    "my_list=(1,2,3,\"apple\",\"banana\",3)\n",
    "print(my_list)"
   ]
  },
  {
   "cell_type": "code",
   "execution_count": 12,
   "id": "6e8ad689-d5ad-473b-8d25-77d24c535c8a",
   "metadata": {},
   "outputs": [
    {
     "name": "stdout",
     "output_type": "stream",
     "text": [
      "((1, 2, 3), ('a', 'b', 'c'))\n"
     ]
    }
   ],
   "source": [
    "#nested tuple\n",
    "nested_tuple=((1,2,3),(\"a\",\"b\",\"c\"))\n",
    "print(nested_tuple)"
   ]
  },
  {
   "cell_type": "code",
   "execution_count": 13,
   "id": "1857b314-54b4-4183-875f-0be1d2e1b92d",
   "metadata": {},
   "outputs": [
    {
     "name": "stdout",
     "output_type": "stream",
     "text": [
      "(('chidananda', 'pavan', 'renuka'), (1, 2, 3))\n"
     ]
    }
   ],
   "source": [
    "practice_tuple=((\"chidananda\",\"pavan\",\"renuka\"),(1,2,3))\n",
    "print(practice_tuple)"
   ]
  },
  {
   "cell_type": "code",
   "execution_count": 17,
   "id": "42f7652c-632f-4a45-9f9c-b39c9c24414e",
   "metadata": {},
   "outputs": [
    {
     "name": "stdout",
     "output_type": "stream",
     "text": [
      "42\n"
     ]
    }
   ],
   "source": [
    "#single element tuple\n",
    "single_element=(42)\n",
    "print(single_element)"
   ]
  },
  {
   "cell_type": "code",
   "execution_count": 18,
   "id": "7589b4c2-2bd6-47ed-8973-3fc430c05cba",
   "metadata": {},
   "outputs": [
    {
     "name": "stdout",
     "output_type": "stream",
     "text": [
      "()\n"
     ]
    }
   ],
   "source": [
    "#Empty Tuple\n",
    "empty_tuple=()\n",
    "print(empty_tuple)"
   ]
  },
  {
   "cell_type": "markdown",
   "id": "7b255482-a448-45b7-a291-89ca7143d796",
   "metadata": {
    "scrolled": true
   },
   "source": [
    "Tuple Operations"
   ]
  },
  {
   "cell_type": "markdown",
   "id": "841e3430-0967-4ebb-89cc-81aa4d181fb5",
   "metadata": {},
   "source": [
    "Accessing elements"
   ]
  },
  {
   "cell_type": "code",
   "execution_count": 20,
   "id": "29d32709-9ae6-4199-833b-fa22b9e54f9b",
   "metadata": {},
   "outputs": [
    {
     "name": "stdout",
     "output_type": "stream",
     "text": [
      "('apple', 'banana', 'grapes')\n"
     ]
    }
   ],
   "source": [
    "#access by index\n",
    "fruits=(\"apple\",\"banana\",\"grapes\")\n",
    "print(fruits)"
   ]
  },
  {
   "cell_type": "code",
   "execution_count": 21,
   "id": "5df25441-fc8b-4f83-8eca-4d0b4f61ce46",
   "metadata": {},
   "outputs": [
    {
     "name": "stdout",
     "output_type": "stream",
     "text": [
      "grapes\n"
     ]
    }
   ],
   "source": [
    "#negative indexing\n",
    "print(fruits[-1])"
   ]
  },
  {
   "cell_type": "code",
   "execution_count": 22,
   "id": "a8724ab9-717b-4a89-beac-837523b7eac3",
   "metadata": {},
   "outputs": [
    {
     "name": "stdout",
     "output_type": "stream",
     "text": [
      "3\n"
     ]
    }
   ],
   "source": [
    "#access nested tuples\n",
    "nested=((\"charan\",\"nirosha\",\"ganga\"),(1,2,3))\n",
    "print(nested[1][2])"
   ]
  },
  {
   "cell_type": "code",
   "execution_count": 24,
   "id": "6254320a-2ee6-4a8d-9b85-bae7f613ec86",
   "metadata": {},
   "outputs": [
    {
     "name": "stdout",
     "output_type": "stream",
     "text": [
      "apple\n",
      "banana\n",
      "grapes\n"
     ]
    }
   ],
   "source": [
    "#iterate through a tuple\n",
    "for i in fruits:\n",
    "    print(i)"
   ]
  },
  {
   "cell_type": "code",
   "execution_count": 25,
   "id": "cf5ed517-1d7b-4213-8f9f-e0fd25431a63",
   "metadata": {
    "scrolled": true
   },
   "outputs": [
    {
     "name": "stdout",
     "output_type": "stream",
     "text": [
      "3\n"
     ]
    }
   ],
   "source": [
    "#tuple length\n",
    "print(len(fruits))"
   ]
  },
  {
   "cell_type": "markdown",
   "id": "da5c7c63-d509-49d3-9520-d10f401b19bf",
   "metadata": {},
   "source": [
    "Tuple Methods"
   ]
  },
  {
   "cell_type": "code",
   "execution_count": 26,
   "id": "a44aadd3-1505-4936-9f88-3065ad299a40",
   "metadata": {},
   "outputs": [
    {
     "name": "stdout",
     "output_type": "stream",
     "text": [
      "3\n"
     ]
    }
   ],
   "source": [
    "#count function will return the numberr of times\n",
    "#the defined value has been repeted\n",
    "data=(1,2,3,2,2,4)\n",
    "print(data.count(2))"
   ]
  },
  {
   "cell_type": "code",
   "execution_count": 1,
   "id": "8e54ccdc-7d02-4fdc-9eff-ba989e916ff1",
   "metadata": {},
   "outputs": [
    {
     "name": "stdout",
     "output_type": "stream",
     "text": [
      "(1, 2, 3, 4, 5, 6, 7, 8, 9)\n"
     ]
    }
   ],
   "source": [
    "#concatenate Tuples\n",
    "#1+4=5\n",
    "#\"1\"+\"4\"=14\n",
    "tuple1=(1,2,3)\n",
    "tuple2=(4,5,6)\n",
    "tuple3=(7,8,9)\n",
    "combined=tuple1+tuple2+tuple3\n",
    "print(combined)"
   ]
  },
  {
   "cell_type": "code",
   "execution_count": 31,
   "id": "d9ad5606-ebab-4270-976d-5f3b55d63edf",
   "metadata": {},
   "outputs": [
    {
     "name": "stdout",
     "output_type": "stream",
     "text": [
      "('Anitha', 'Anitha', 'Anitha', 'Anitha', 'Anitha')\n"
     ]
    }
   ],
   "source": [
    "#Repeat a Tuple\n",
    "repeated=(\"Anitha\",)*5\n",
    "print(repeated)"
   ]
  },
  {
   "cell_type": "code",
   "execution_count": 33,
   "id": "631b8e0f-94da-4866-83e1-a1134ed29b9d",
   "metadata": {},
   "outputs": [
    {
     "name": "stdout",
     "output_type": "stream",
     "text": [
      "(1, 2, 3, 2, 2, 4)\n",
      "False\n"
     ]
    }
   ],
   "source": [
    "#using membership operator\n",
    "print(data)\n",
    "print(45 in data)"
   ]
  },
  {
   "cell_type": "markdown",
   "id": "ab8ad7da-742b-4987-8eff-0d0024abc938",
   "metadata": {},
   "source": [
    "Tuple unpacking"
   ]
  },
  {
   "cell_type": "code",
   "execution_count": 34,
   "id": "2317f08a-b26a-424b-a0f9-33b6d8a9bb05",
   "metadata": {},
   "outputs": [
    {
     "name": "stdout",
     "output_type": "stream",
     "text": [
      "3 4 5\n"
     ]
    }
   ],
   "source": [
    "#Unpack into variables\n",
    "point=(3,4,5)\n",
    "x,y,z=point\n",
    "print(x,y,z)"
   ]
  },
  {
   "cell_type": "code",
   "execution_count": 35,
   "id": "a6abc8df-f632-4afa-a78e-9840401b37b8",
   "metadata": {},
   "outputs": [
    {
     "name": "stdout",
     "output_type": "stream",
     "text": [
      "'tuple' object does not support item assignment\n"
     ]
    }
   ],
   "source": [
    "#immutable nature\n",
    "numbers=(1,2,3)\n",
    "try:\n",
    "    numbers[0]=10\n",
    "except TypeError as e:\n",
    "    print(e)\n"
   ]
  },
  {
   "cell_type": "code",
   "execution_count": 2,
   "id": "72464237-fce6-46d2-a1e4-f73926df439b",
   "metadata": {},
   "outputs": [
    {
     "name": "stdout",
     "output_type": "stream",
     "text": [
      "(10, 2, 3)\n"
     ]
    }
   ],
   "source": [
    "#Convert Tuple to list for modification\n",
    "numbers=(1,2,3)\n",
    "numbers_list=list(numbers)\n",
    "numbers_list[0]=10\n",
    "numbers_list=tuple(numbers_list)\n",
    "print(numbers_list)"
   ]
  },
  {
   "cell_type": "code",
   "execution_count": 39,
   "id": "a87fc65e-ff88-4afa-9611-155ed9f0fcdd",
   "metadata": {},
   "outputs": [
    {
     "name": "stdout",
     "output_type": "stream",
     "text": [
      "([99, 2], [3, 4])\n"
     ]
    }
   ],
   "source": [
    "#Immutable Nested tuple\n",
    "#here we define the value in a list inside  tuple\n",
    "#as list is mutable so 1 is replaced with 99\n",
    "nested=([1,2],[3,4])\n",
    "nested[0][0]=99\n",
    "print(nested)"
   ]
  },
  {
   "cell_type": "code",
   "execution_count": 42,
   "id": "ec6114ad-bc05-4b3d-931a-6c72ab3f1e4a",
   "metadata": {},
   "outputs": [
    {
     "data": {
      "text/plain": [
       "(10, 2, 3)"
      ]
     },
     "execution_count": 42,
     "metadata": {},
     "output_type": "execute_result"
    }
   ],
   "source": [
    "numbers_list"
   ]
  },
  {
   "cell_type": "code",
   "execution_count": null,
   "id": "849a987e-9617-4cfd-b5e0-cb72ffa2cb3f",
   "metadata": {},
   "outputs": [],
   "source": [
    "Dictionaries\n",
    "a dictionary ia anunorderd collection of key value paris\n",
    "Keys are unique, and values can be of any data type\n",
    "dictionary cannot have indexing\n",
    "Items have no specific order\n",
    "Dictionaries are mutable,can change add or remove items\n",
    "Each key must be unique\n",
    "my_dict={\"name\":\"John\",\"age\":25,\"city\":\"mumbai\"}\n"
   ]
  },
  {
   "cell_type": "code",
   "execution_count": 16,
   "id": "039db188-609c-4527-ba0b-ee7b205723d4",
   "metadata": {},
   "outputs": [
    {
     "name": "stdout",
     "output_type": "stream",
     "text": [
      "{'shopping': 'clothes', 'stationary': 'pen', 'fruits': 'apple'}\n",
      "apple\n"
     ]
    },
    {
     "data": {
      "text/plain": [
       "{'shopping': 'clothes', 'stationary': 'pen', 'fruits': 'apple', 'marks': 98}"
      ]
     },
     "execution_count": 16,
     "metadata": {},
     "output_type": "execute_result"
    }
   ],
   "source": [
    "my_dict={\"shopping\":\"clothes\",\"stationary\":\"pen\",\"fruits\":\"apple\"}\n",
    "print(my_dict)\n",
    "print(my_dict[\"fruits\"])\n",
    "my_dict[\"marks\"]=98\n",
    "my_dict"
   ]
  },
  {
   "cell_type": "code",
   "execution_count": 29,
   "id": "bd758bfc-6c92-43c9-9054-7f2f89e9d4e3",
   "metadata": {},
   "outputs": [
    {
     "name": "stdout",
     "output_type": "stream",
     "text": [
      "{'student1': {'name': 'Alice', 'age': 45}, 'student2': {'name': 'Bob', 'age': 22}}\n"
     ]
    }
   ],
   "source": [
    "#nested dictionary\n",
    "\n",
    "classroom={\n",
    "    \"student1\":{\"name\":\"Alice\",\"age\":45},\n",
    "    \"student2\":{\"name\":\"Bob\",\"age\":22}\n",
    "}\n",
    "print(classroom)"
   ]
  },
  {
   "cell_type": "code",
   "execution_count": 31,
   "id": "a7ae6fae-8eeb-4e31-98f3-6c465e7a8a6d",
   "metadata": {},
   "outputs": [
    {
     "name": "stdout",
     "output_type": "stream",
     "text": [
      "{'name': 'Alice', 'position': 'Developer', 'salary': 75000}\n"
     ]
    }
   ],
   "source": [
    "#dictionary using dict() constructor\n",
    "\n",
    "employee=dict(name=\"Alice\",position=\"Developer\",salary=75000)\n",
    "print(employee)"
   ]
  },
  {
   "cell_type": "code",
   "execution_count": 14,
   "id": "8417898a-3f53-479c-88d4-e465eb4bd6cd",
   "metadata": {},
   "outputs": [
    {
     "data": {
      "text/plain": [
       "{'shopping': 'clothes', 'stationary': 'pen'}"
      ]
     },
     "execution_count": 14,
     "metadata": {},
     "output_type": "execute_result"
    }
   ],
   "source": [
    "#pop will delete the last item\n",
    "my_dict={\"shopping\":\"clothes\",\"stationary\":\"pen\",\"fruits\":\"apple\"}\n",
    "my_dict.popitem()\n",
    "my_dict"
   ]
  },
  {
   "cell_type": "code",
   "execution_count": 19,
   "id": "b3bafe7e-40a1-4e73-85b5-cf51a36374b7",
   "metadata": {},
   "outputs": [
    {
     "data": {
      "text/plain": [
       "{'shopping': 'clothes', 'stationary': 'pen'}"
      ]
     },
     "execution_count": 19,
     "metadata": {},
     "output_type": "execute_result"
    }
   ],
   "source": [
    "del my_dict[\"fruits\"]\n",
    "my_dict"
   ]
  },
  {
   "cell_type": "code",
   "execution_count": 1,
   "id": "8c6a610d-fc12-482f-8dbd-4ecccbd34d63",
   "metadata": {},
   "outputs": [
    {
     "name": "stdout",
     "output_type": "stream",
     "text": [
      "{'name': 'karthik', 'age': 26}\n"
     ]
    }
   ],
   "source": [
    "student={\"name\":\"karthik\",\"age\":26}\n",
    "print(student)"
   ]
  },
  {
   "cell_type": "code",
   "execution_count": 2,
   "id": "5575a7e7-066a-41f7-90a7-ca003c4e6c0f",
   "metadata": {},
   "outputs": [
    {
     "name": "stdout",
     "output_type": "stream",
     "text": [
      "name\n",
      "age\n"
     ]
    }
   ],
   "source": [
    "for key in student:\n",
    "    print(key)"
   ]
  },
  {
   "cell_type": "code",
   "execution_count": 3,
   "id": "d8edae45-c3b7-4c74-88a3-d0348eee1bbd",
   "metadata": {},
   "outputs": [
    {
     "name": "stdout",
     "output_type": "stream",
     "text": [
      "karthik\n",
      "26\n"
     ]
    }
   ],
   "source": [
    "for value in student.values():\n",
    "    print(value)"
   ]
  },
  {
   "cell_type": "code",
   "execution_count": 4,
   "id": "1da0ca4a-36cd-4932-a708-297f0d5b90ce",
   "metadata": {},
   "outputs": [
    {
     "name": "stdout",
     "output_type": "stream",
     "text": [
      "{'name': 'karthik', 'age': 26, 'grade': 'A'}\n"
     ]
    }
   ],
   "source": [
    "#adding a new key value pair\n",
    "\n",
    "student[\"grade\"]=\"A\"\n",
    "print(student)"
   ]
  },
  {
   "cell_type": "code",
   "execution_count": 9,
   "id": "68dc4562-8403-461d-bc4b-c7e847d275b6",
   "metadata": {},
   "outputs": [
    {
     "name": "stdout",
     "output_type": "stream",
     "text": [
      "old data {'name': 'karthik', 'age': 28, 'grade': 'A'}\n",
      "Updated data  {'name': 'karthik', 'age': 28, 'grade': 'A'}\n"
     ]
    }
   ],
   "source": [
    "#update an existing value\n",
    "\n",
    "print(\"old data\",student)\n",
    "student[\"age\"]=28\n",
    "print(\"Updated data \",student)"
   ]
  },
  {
   "cell_type": "code",
   "execution_count": 10,
   "id": "cfa2bb95-8ceb-460c-acc1-86c891ce56ed",
   "metadata": {},
   "outputs": [
    {
     "name": "stdout",
     "output_type": "stream",
     "text": [
      "{'name': 'karthik', 'age': 28, 'grade': 'B', 'city': 'New York'}\n"
     ]
    }
   ],
   "source": [
    "#update using update\n",
    "\n",
    "student.update({\"grade\":\"B\",\"city\":\"New York\"})\n",
    "print(student)\n",
    "                "
   ]
  },
  {
   "cell_type": "code",
   "execution_count": 11,
   "id": "371517dd-ca0f-46e0-929d-8c36a8d20fb7",
   "metadata": {},
   "outputs": [
    {
     "name": "stdout",
     "output_type": "stream",
     "text": [
      "{'name': 'karthik', 'age': 28, 'grade': 'B', 'city': 'New York', 'email': 'xyz@gmail.com', 'is_active': True}\n"
     ]
    }
   ],
   "source": [
    "#adding multiple keys\n",
    "new_data={\"email\":\"xyz@gmail.com\",\"is_active\":True}\n",
    "student.update(new_data)\n",
    "print(student)"
   ]
  },
  {
   "cell_type": "code",
   "execution_count": 24,
   "id": "b6579f37-7e96-4cb7-b156-85765940af30",
   "metadata": {
    "scrolled": true
   },
   "outputs": [
    {
     "name": "stdout",
     "output_type": "stream",
     "text": [
      "{'name': 'karthik', 'grade': 'B', 'email': 'xyz@gmail.com'}\n"
     ]
    }
   ],
   "source": [
    "#deleting elements\n",
    "#using del\n",
    "\n",
    "del student[\"age\"]\n",
    "print(student)\n"
   ]
  },
  {
   "cell_type": "code",
   "execution_count": 25,
   "id": "0ede8f88-e0fb-4c45-b879-b8e276af199f",
   "metadata": {},
   "outputs": [
    {
     "name": "stdout",
     "output_type": "stream",
     "text": [
      "('email', 'xyz@gmail.com')\n"
     ]
    }
   ],
   "source": [
    "#using pop item\n",
    "#pop is different from pop item \n",
    "#pop is use to delte particular item\n",
    "#pop item will delete default last value\n",
    "last_item=student.popitem()\n",
    "print(last_item)"
   ]
  },
  {
   "cell_type": "code",
   "execution_count": 28,
   "id": "ffc7f2d1-3465-4af1-bb1e-adbcb1faff9f",
   "metadata": {},
   "outputs": [
    {
     "name": "stdout",
     "output_type": "stream",
     "text": [
      "{'shopping': None, 'stationary': None, 'fruits': None}\n"
     ]
    }
   ],
   "source": [
    "#delete all values but kew should presentt\n",
    "my_dict={\"shopping\":\"clothes\",\"stationary\":\"pen\",\"fruits\":\"apple\"}\n",
    "for i in my_dict:\n",
    "    my_dict[i]=None\n",
    "print(my_dict)"
   ]
  },
  {
   "cell_type": "code",
   "execution_count": 30,
   "id": "e8738096-29eb-432a-8d80-c859b621b8b8",
   "metadata": {},
   "outputs": [
    {
     "name": "stdout",
     "output_type": "stream",
     "text": [
      "{'name': 'karthik', 'grade': 'B'}\n",
      "True\n"
     ]
    }
   ],
   "source": [
    "#check for key existence\n",
    "print(student)\n",
    "print(\"name\" in student)"
   ]
  },
  {
   "cell_type": "code",
   "execution_count": 31,
   "id": "5d46b5fd-0a31-4b3d-bdab-31614a3df567",
   "metadata": {},
   "outputs": [
    {
     "name": "stdout",
     "output_type": "stream",
     "text": [
      "dict_keys(['name', 'grade'])\n"
     ]
    }
   ],
   "source": [
    "#get keys\n",
    "keys=student.keys()\n",
    "print(keys)"
   ]
  },
  {
   "cell_type": "code",
   "execution_count": 32,
   "id": "225df46c-ccd5-46d1-a92f-668b3a4bf875",
   "metadata": {},
   "outputs": [
    {
     "name": "stdout",
     "output_type": "stream",
     "text": [
      "dict_values(['karthik', 'B'])\n"
     ]
    }
   ],
   "source": [
    "#get values\n",
    "values=student.values()\n",
    "print(values)"
   ]
  },
  {
   "cell_type": "code",
   "execution_count": 33,
   "id": "07328927-c3f7-48b4-9e7c-c5474a90337b",
   "metadata": {},
   "outputs": [
    {
     "name": "stdout",
     "output_type": "stream",
     "text": [
      "dict_items([('name', 'karthik'), ('grade', 'B')])\n"
     ]
    }
   ],
   "source": [
    "#get items\n",
    "\n",
    "items=student.items()\n",
    "print(items)"
   ]
  },
  {
   "cell_type": "code",
   "execution_count": 34,
   "id": "66a2a882-38e6-45cd-926b-36b88cefd668",
   "metadata": {},
   "outputs": [
    {
     "name": "stdout",
     "output_type": "stream",
     "text": [
      "{'name': 'karthik', 'grade': 'B'}\n"
     ]
    }
   ],
   "source": [
    "#copy dictionary\n",
    "copy_student=student.copy()\n",
    "print(copy_student)"
   ]
  },
  {
   "cell_type": "markdown",
   "id": "e16fe054-89d7-41b0-8471-36a759f6c14a",
   "metadata": {},
   "source": [
    "#python dictionary comprehension example"
   ]
  },
  {
   "cell_type": "code",
   "execution_count": 40,
   "id": "20055a0a-3383-4e2c-9152-98686ca9a8a4",
   "metadata": {},
   "outputs": [
    {
     "name": "stdout",
     "output_type": "stream",
     "text": [
      "{'a': 1, 'b': 2, 'c': 3, 'd': 4, 'e': 5, 'f': 6}\n"
     ]
    }
   ],
   "source": [
    "#python code to demonstrate dictionary\n",
    "#comprehesion\n",
    "#lists to represent keys and values\n",
    "keys=['a','b','c','d','e','f']\n",
    "values=[1,2,3,4,5,6]\n",
    "#but this line shows dict comprehension here\n",
    "myDict={k:v for (k,v) in zip(keys,values)}      #or myDict=dict(zip(keys,values))\n",
    "print(myDict)"
   ]
  },
  {
   "cell_type": "markdown",
   "id": "db74e655-c7f1-4095-8e97-ac3f666dedbb",
   "metadata": {},
   "source": [
    "using fromkeys() Method"
   ]
  },
  {
   "cell_type": "code",
   "execution_count": 8,
   "id": "de8a43f4-c04f-44cb-bccc-5a2ec567229a",
   "metadata": {},
   "outputs": [
    {
     "name": "stdout",
     "output_type": "stream",
     "text": [
      "{0: True, 1: True, 2: True, 3: True, 4: True}\n"
     ]
    }
   ],
   "source": [
    "dic=dict.fromkeys(range(5),True)\n",
    "print(dic)"
   ]
  },
  {
   "cell_type": "markdown",
   "id": "6ca37d08-521e-414b-ba72-68db221a3c8e",
   "metadata": {},
   "source": [
    "Using dictionary comprehension make dictionary"
   ]
  },
  {
   "cell_type": "code",
   "execution_count": 9,
   "id": "bf898027-e7a0-4bb0-a5fc-f9cd8c264708",
   "metadata": {},
   "outputs": [
    {
     "name": "stdout",
     "output_type": "stream",
     "text": [
      "{1: 1, 2: 4, 3: 9, 4: 16, 5: 25}\n"
     ]
    }
   ],
   "source": [
    "#Python code to demnstrae dictionary\n",
    "#creation using list comprehension\n",
    "myDict={x:x**2 for x in [1,2,3,4,5]}\n",
    "print(myDict)"
   ]
  },
  {
   "cell_type": "code",
   "execution_count": null,
   "id": "fe009b85-1ce0-4153-99f6-4964a9f6aaa3",
   "metadata": {},
   "outputs": [],
   "source": [
    "Sets\n",
    "A set is an unordered collection of unique elements.\n",
    "set is mutable,but their elements mist be immutable\n",
    "Duplictes not allowed even if we try to push duplicte it will automatically delete\n",
    "add , remove operations\n",
    "indexing is not possible in set"
   ]
  },
  {
   "cell_type": "code",
   "execution_count": 44,
   "id": "d5442688-ed69-4d5e-b602-3cc73f82502e",
   "metadata": {},
   "outputs": [
    {
     "data": {
      "text/plain": [
       "{'apple', 'grapes', 'mango', 'orange', 'watermelon'}"
      ]
     },
     "execution_count": 44,
     "metadata": {},
     "output_type": "execute_result"
    }
   ],
   "source": [
    "#examples of sets\n",
    "#basic set\n",
    "fruits={\"apple\",\"grapes\",\"mango\",\"watermelon\",\"orange\"}\n",
    "fruits"
   ]
  },
  {
   "cell_type": "code",
   "execution_count": 45,
   "id": "a51ca6d8-8faf-449a-b72e-87dcec73b017",
   "metadata": {},
   "outputs": [
    {
     "name": "stdout",
     "output_type": "stream",
     "text": [
      "{1, 2, 3.45, 3, 'apple'}\n"
     ]
    }
   ],
   "source": [
    "#set with mixed data tupes\n",
    "#set is not allowing boolean data type\n",
    "n={1,2,3,\"apple\",3.45,3,True}\n",
    "print(n)"
   ]
  },
  {
   "cell_type": "code",
   "execution_count": null,
   "id": "f6bc7c05-3a1c-494f-9a45-6cf0a783d555",
   "metadata": {},
   "outputs": [],
   "source": []
  },
  {
   "cell_type": "code",
   "execution_count": 20,
   "id": "56ea7b64-1aad-43ec-8fb9-4d702bfb6a8a",
   "metadata": {},
   "outputs": [
    {
     "name": "stdout",
     "output_type": "stream",
     "text": [
      "{1, 2, 3, 4, 5}\n",
      "{5, 6, 7, 8, 9}\n"
     ]
    }
   ],
   "source": [
    "my_set1={1,2,3,4,5}\n",
    "my_set2={6,7,8,9,6,5}\n",
    "print(my_set1)\n",
    "print(my_set2)"
   ]
  },
  {
   "cell_type": "code",
   "execution_count": 3,
   "id": "703a4c07-0b18-4c83-b1a1-43705a23ed48",
   "metadata": {},
   "outputs": [
    {
     "data": {
      "text/plain": [
       "{1, 2, 3, 4, 5, 'apple'}"
      ]
     },
     "execution_count": 3,
     "metadata": {},
     "output_type": "execute_result"
    }
   ],
   "source": [
    "my_set1={1,2,3,4,5}\n",
    "my_set1.add(\"apple\")\n",
    "my_set1"
   ]
  },
  {
   "cell_type": "code",
   "execution_count": 22,
   "id": "92b13496-c169-46f7-be26-549d50f2d764",
   "metadata": {},
   "outputs": [
    {
     "data": {
      "text/plain": [
       "{1, 2, 3, 4, 5}"
      ]
     },
     "execution_count": 22,
     "metadata": {},
     "output_type": "execute_result"
    }
   ],
   "source": [
    "my_set1.remove(\"apple\")\n",
    "my_set1"
   ]
  },
  {
   "cell_type": "code",
   "execution_count": 24,
   "id": "c226113e-4654-485b-812c-61eda694bc0b",
   "metadata": {},
   "outputs": [
    {
     "name": "stdout",
     "output_type": "stream",
     "text": [
      "{1, 2, 3, 4, 5, 6, 7, 8, 9}\n"
     ]
    }
   ],
   "source": [
    "print(my_set1 .union(my_set2))"
   ]
  },
  {
   "cell_type": "markdown",
   "id": "93e3fb02-43ee-475e-a650-4bcc4a3b27cc",
   "metadata": {},
   "source": [
    "Set operations"
   ]
  },
  {
   "cell_type": "markdown",
   "id": "0bd8b6ad-5326-4403-b7fe-3cda6024b31c",
   "metadata": {},
   "source": [
    "1.Adding and Removing elements"
   ]
  },
  {
   "cell_type": "code",
   "execution_count": 46,
   "id": "af4278cf-83e9-4595-a99e-891071e41dcc",
   "metadata": {},
   "outputs": [
    {
     "data": {
      "text/plain": [
       "{'apple', 'grapes', 'mango', 'orange', 'watermelon'}"
      ]
     },
     "execution_count": 46,
     "metadata": {},
     "output_type": "execute_result"
    }
   ],
   "source": [
    "fruits"
   ]
  },
  {
   "cell_type": "code",
   "execution_count": 48,
   "id": "ac4c9126-92a4-451a-9dfe-627c0de177d4",
   "metadata": {},
   "outputs": [
    {
     "name": "stdout",
     "output_type": "stream",
     "text": [
      "{'mango', 'grapes', 'watermelon', 'orange', 'banana', 'apple'}\n"
     ]
    }
   ],
   "source": [
    "#add an element\n",
    "fruits.add(\"banana\")\n",
    "print(fruits)"
   ]
  },
  {
   "cell_type": "code",
   "execution_count": 51,
   "id": "f423945a-547f-44a0-bd20-4716683f7901",
   "metadata": {},
   "outputs": [
    {
     "name": "stdout",
     "output_type": "stream",
     "text": [
      "{'mango', 'grapes', 'watermelon', 'banana'}\n"
     ]
    }
   ],
   "source": [
    "#remove element\n",
    "fruits.remove(\"apple\")\n",
    "print(fruits)"
   ]
  },
  {
   "cell_type": "code",
   "execution_count": 52,
   "id": "8e82a6df-f5ff-4deb-90c5-8095af2d0ece",
   "metadata": {},
   "outputs": [
    {
     "name": "stdout",
     "output_type": "stream",
     "text": [
      "{'mango', 'watermelon', 'banana'}\n"
     ]
    }
   ],
   "source": [
    "#discard an element (no error if not found)\n",
    "fruits.discard(\"grapes\")\n",
    "print(fruits)"
   ]
  },
  {
   "cell_type": "code",
   "execution_count": 54,
   "id": "339d68e2-1ec2-4971-820c-da98d11f5265",
   "metadata": {},
   "outputs": [
    {
     "data": {
      "text/plain": [
       "{'banana', 'mango', 'watermelon'}"
      ]
     },
     "execution_count": 54,
     "metadata": {},
     "output_type": "execute_result"
    }
   ],
   "source": [
    "fruits"
   ]
  },
  {
   "cell_type": "code",
   "execution_count": 55,
   "id": "8b76461a-b7e9-48b0-8b17-c5104e5e9e68",
   "metadata": {},
   "outputs": [
    {
     "name": "stdout",
     "output_type": "stream",
     "text": [
      "mango\n"
     ]
    }
   ],
   "source": [
    "#pop a random element\n",
    "fruits_new=fruits.pop()\n",
    "print(fruits_new)"
   ]
  },
  {
   "cell_type": "code",
   "execution_count": 56,
   "id": "acc69c41-b526-4f9f-a82f-dad007bf078f",
   "metadata": {},
   "outputs": [
    {
     "data": {
      "text/plain": [
       "{'banana', 'watermelon'}"
      ]
     },
     "execution_count": 56,
     "metadata": {},
     "output_type": "execute_result"
    }
   ],
   "source": [
    "fruits"
   ]
  },
  {
   "cell_type": "markdown",
   "id": "5ee8861d-6235-455a-8489-01cf14be0960",
   "metadata": {},
   "source": [
    "Set Operations"
   ]
  },
  {
   "cell_type": "code",
   "execution_count": 58,
   "id": "b65c118a-7b9a-4528-93ef-095ce62559a2",
   "metadata": {},
   "outputs": [
    {
     "name": "stdout",
     "output_type": "stream",
     "text": [
      "{1, 2, 3, 4, 5}\n"
     ]
    }
   ],
   "source": [
    "#union-it will not allow duplicates\n",
    "set1={1,2,3}\n",
    "set2={3,4,5}\n",
    "print(set1.union(set2))"
   ]
  },
  {
   "cell_type": "code",
   "execution_count": 60,
   "id": "e96d0440-46a6-4e14-8450-46294fdd19ef",
   "metadata": {},
   "outputs": [
    {
     "name": "stdout",
     "output_type": "stream",
     "text": [
      "{3}\n"
     ]
    }
   ],
   "source": [
    "#Intersection-it will gives the common value\n",
    "print(set1.intersection(set2))"
   ]
  },
  {
   "cell_type": "code",
   "execution_count": 64,
   "id": "72edff02-515d-4e33-b906-d398d5c7e2ca",
   "metadata": {},
   "outputs": [
    {
     "name": "stdout",
     "output_type": "stream",
     "text": [
      "{1, 2}\n"
     ]
    }
   ],
   "source": [
    "#difference\n",
    "set1={1,2,3}\n",
    "set2={3,4,5}\n",
    "print(set1.difference(set2))   # it will print unique elements in set1 compare to set2"
   ]
  },
  {
   "cell_type": "code",
   "execution_count": 65,
   "id": "b6851551-d78c-422b-9219-6f67c891215c",
   "metadata": {},
   "outputs": [
    {
     "name": "stdout",
     "output_type": "stream",
     "text": [
      "{4, 5}\n"
     ]
    }
   ],
   "source": [
    "print(set2.difference(set1))     # it will print unique elements in set2 compare to set1"
   ]
  },
  {
   "cell_type": "code",
   "execution_count": 66,
   "id": "db7ae717-ca66-4640-9e5d-5a3c12b2d48b",
   "metadata": {},
   "outputs": [
    {
     "name": "stdout",
     "output_type": "stream",
     "text": [
      "{1, 2, 4, 5}\n"
     ]
    }
   ],
   "source": [
    "set1={1,2,3}\n",
    "set2={3,4,5}\n",
    "#Symmetric difference, it will return all item without\n",
    "\n",
    "print(set1.symmetric_difference(set2))"
   ]
  },
  {
   "cell_type": "code",
   "execution_count": 68,
   "id": "adb86091-8e65-41ac-9bf2-008808105b32",
   "metadata": {},
   "outputs": [
    {
     "name": "stdout",
     "output_type": "stream",
     "text": [
      "{1, 2, 3, 4, 5}\n"
     ]
    }
   ],
   "source": [
    "#update a set with another\n",
    "set1.update(set2)\n",
    "print(set1)"
   ]
  },
  {
   "cell_type": "markdown",
   "id": "84a92ff6-6db6-4271-a1f0-3cf82e29d1f7",
   "metadata": {},
   "source": [
    "Subset and Superset Operations"
   ]
  },
  {
   "cell_type": "code",
   "execution_count": null,
   "id": "cd6b89a9-78ce-412d-a282-f83fc8a3c775",
   "metadata": {},
   "outputs": [],
   "source": [
    "issubset() will return true\n",
    "if all thte item of set1 is present is set2 i.e true or else false"
   ]
  },
  {
   "cell_type": "code",
   "execution_count": 69,
   "id": "48180922-3cd9-4164-82ee-536ef1876ce6",
   "metadata": {},
   "outputs": [
    {
     "name": "stdout",
     "output_type": "stream",
     "text": [
      "True\n"
     ]
    }
   ],
   "source": [
    "#check subset\n",
    "set1={1,2,3}\n",
    "set2={1,2,3,4,5}\n",
    "print(set1.issubset(set2))\n"
   ]
  },
  {
   "cell_type": "code",
   "execution_count": 71,
   "id": "7eb9f7a5-c6a3-472c-a5b1-e93b9a5554aa",
   "metadata": {},
   "outputs": [
    {
     "name": "stdout",
     "output_type": "stream",
     "text": [
      "False\n"
     ]
    }
   ],
   "source": [
    "print(set2.issubset(set1))"
   ]
  },
  {
   "cell_type": "code",
   "execution_count": 73,
   "id": "ddd78bbb-d16a-4b04-bee7-989985d5a99e",
   "metadata": {},
   "outputs": [
    {
     "name": "stdout",
     "output_type": "stream",
     "text": [
      "False\n"
     ]
    }
   ],
   "source": [
    "print(set1.issuperset(set2))"
   ]
  },
  {
   "cell_type": "code",
   "execution_count": 74,
   "id": "c7bb940f-2088-453d-b81e-2b4622e5903f",
   "metadata": {},
   "outputs": [
    {
     "name": "stdout",
     "output_type": "stream",
     "text": [
      "True\n"
     ]
    }
   ],
   "source": [
    "print(set2.issuperset(set1))"
   ]
  },
  {
   "cell_type": "code",
   "execution_count": 5,
   "id": "844a7868-5091-416e-8c1a-0022949168a9",
   "metadata": {},
   "outputs": [
    {
     "name": "stdout",
     "output_type": "stream",
     "text": [
      "{1, 2, 3}\n"
     ]
    }
   ],
   "source": [
    "set1={1,2,3}\n",
    "print(set1)"
   ]
  },
  {
   "cell_type": "code",
   "execution_count": 7,
   "id": "b6cc6d5f-3ca1-40f8-bfc2-30c885bb4e8d",
   "metadata": {},
   "outputs": [
    {
     "name": "stdout",
     "output_type": "stream",
     "text": [
      "{1, 2, 3}\n"
     ]
    }
   ],
   "source": [
    "#copy a set\n",
    "set_copy=set1.copy()\n",
    "print(set_copy)"
   ]
  },
  {
   "cell_type": "code",
   "execution_count": 8,
   "id": "1eff93d0-01b1-4ba7-bdfc-b9acf2bcff46",
   "metadata": {},
   "outputs": [
    {
     "name": "stdout",
     "output_type": "stream",
     "text": [
      "{1, 2, 3, 4, 5}\n"
     ]
    }
   ],
   "source": [
    "#add Multiple Elements using update\n",
    "set1.update([3,4,5])\n",
    "print(set1)"
   ]
  },
  {
   "cell_type": "code",
   "execution_count": 2,
   "id": "3b9416ef-f3cf-4296-84aa-b32555045082",
   "metadata": {},
   "outputs": [
    {
     "name": "stdout",
     "output_type": "stream",
     "text": [
      "3\n"
     ]
    }
   ],
   "source": [
    "##length of  a set\n",
    "set1={1,2,3}\n",
    "print(len(set1))"
   ]
  },
  {
   "cell_type": "code",
   "execution_count": 3,
   "id": "b3773b87-2cdf-4b9f-982b-e9fe60a41714",
   "metadata": {},
   "outputs": [
    {
     "name": "stdout",
     "output_type": "stream",
     "text": [
      "True\n"
     ]
    }
   ],
   "source": [
    "#membership test\n",
    "print(3 in set1)"
   ]
  },
  {
   "cell_type": "code",
   "execution_count": 4,
   "id": "8d49072b-e20a-46b3-9073-29b10ce93e3b",
   "metadata": {},
   "outputs": [
    {
     "name": "stdout",
     "output_type": "stream",
     "text": [
      "1\n",
      "2\n",
      "3\n"
     ]
    }
   ],
   "source": [
    "#Loop through elements\n",
    "for element in set1:\n",
    "    print(element)"
   ]
  },
  {
   "cell_type": "code",
   "execution_count": 5,
   "id": "394836a1-8fa1-494b-b75d-83e807bb9a00",
   "metadata": {},
   "outputs": [
    {
     "name": "stdout",
     "output_type": "stream",
     "text": [
      "[1, 2, 3]\n"
     ]
    }
   ],
   "source": [
    "#convert set to list\n",
    "set_list=list(set1)\n",
    "print(set_list)"
   ]
  },
  {
   "cell_type": "code",
   "execution_count": 7,
   "id": "29942e8a-3c5a-4b77-b7a7-32aef9a9c3f4",
   "metadata": {},
   "outputs": [
    {
     "name": "stdout",
     "output_type": "stream",
     "text": [
      "0 1\n",
      "1 2\n",
      "2 3\n"
     ]
    }
   ],
   "source": [
    "#Enumerate over a set--- it will give the indexing to set 1\n",
    "for idx,element in enumerate(set1):\n",
    "    print(idx,element)"
   ]
  },
  {
   "cell_type": "code",
   "execution_count": 8,
   "id": "f274a6a7-a529-462b-bcd2-1aa94fed5b0e",
   "metadata": {},
   "outputs": [
    {
     "name": "stdout",
     "output_type": "stream",
     "text": [
      "{1, 4, 9}\n"
     ]
    }
   ],
   "source": [
    "#Apply Function to set elements\n",
    "squared={x**2 for x in set1}\n",
    "print(squared)"
   ]
  },
  {
   "cell_type": "code",
   "execution_count": 10,
   "id": "39e46822-a22b-486c-af5f-e325173f7bd8",
   "metadata": {},
   "outputs": [
    {
     "name": "stdout",
     "output_type": "stream",
     "text": [
      "{4}\n"
     ]
    }
   ],
   "source": [
    "#Filter Set Elements\n",
    "filtered={x for x in squared if x%2==0}\n",
    "print(filtered)"
   ]
  },
  {
   "cell_type": "code",
   "execution_count": null,
   "id": "fc6204cd-a362-4575-b60f-fabdce57c561",
   "metadata": {},
   "outputs": [],
   "source": []
  }
 ],
 "metadata": {
  "kernelspec": {
   "display_name": "Python [conda env:base] *",
   "language": "python",
   "name": "conda-base-py"
  },
  "language_info": {
   "codemirror_mode": {
    "name": "ipython",
    "version": 3
   },
   "file_extension": ".py",
   "mimetype": "text/x-python",
   "name": "python",
   "nbconvert_exporter": "python",
   "pygments_lexer": "ipython3",
   "version": "3.12.7"
  }
 },
 "nbformat": 4,
 "nbformat_minor": 5
}
