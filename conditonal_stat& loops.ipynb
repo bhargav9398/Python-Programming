{
 "cells": [
  {
   "cell_type": "code",
   "execution_count": 1,
   "id": "1d895290-98d2-45e2-ac1e-69166d54beef",
   "metadata": {},
   "outputs": [
    {
     "name": "stdout",
     "output_type": "stream",
     "text": [
      "Good Morning\n"
     ]
    }
   ],
   "source": [
    "print(\"Good Morning\")"
   ]
  },
  {
   "cell_type": "code",
   "execution_count": 2,
   "id": "6c6a9643-a99c-4ee6-8439-5202a1914178",
   "metadata": {},
   "outputs": [
    {
     "name": "stdout",
     "output_type": "stream",
     "text": [
      "How are uuu\n"
     ]
    }
   ],
   "source": [
    "print(\"How are uuu\")"
   ]
  },
  {
   "cell_type": "code",
   "execution_count": 3,
   "id": "ce6f2f75-50c7-49cd-bfd0-4abf08d5682f",
   "metadata": {},
   "outputs": [
    {
     "name": "stdout",
     "output_type": "stream",
     "text": [
      "32\n"
     ]
    }
   ],
   "source": [
    "x=20\n",
    "y=12\n",
    "print(x+y)"
   ]
  },
  {
   "cell_type": "code",
   "execution_count": null,
   "id": "2dd79c50-7c00-40f2-975d-17600b620277",
   "metadata": {},
   "outputs": [],
   "source": [
    "variables can defineed with letters, digits , underscore\n",
    "variables cannot start with digits\n",
    "variables are casesensitive\n",
    "in python we cannot use keywords as variables"
   ]
  },
  {
   "cell_type": "code",
   "execution_count": 7,
   "id": "7d730671-6cc5-40af-8cf8-e4f149078dde",
   "metadata": {},
   "outputs": [
    {
     "name": "stdout",
     "output_type": "stream",
     "text": [
      "5\n",
      "<class 'int'>\n",
      "Rooman\n",
      "<class 'str'>\n",
      "10.7\n",
      "<class 'float'>\n"
     ]
    }
   ],
   "source": [
    "x=5\n",
    "y=\"Rooman\"\n",
    "z=10.7\n",
    "print(x)\n",
    "print(type(x))\n",
    "print(y)\n",
    "print(type(y))\n",
    "print(z)\n",
    "print(type(z))\n"
   ]
  },
  {
   "cell_type": "code",
   "execution_count": 9,
   "id": "987fd674-3019-486c-b841-e3655179a491",
   "metadata": {},
   "outputs": [
    {
     "name": "stdout",
     "output_type": "stream",
     "text": [
      "addition is 70\n"
     ]
    }
   ],
   "source": [
    "a=30\n",
    "b=40\n",
    "print(\"addition is\",a+b)"
   ]
  },
  {
   "cell_type": "raw",
   "id": "8741f9f3-ee60-4c88-8584-925dc336300b",
   "metadata": {},
   "source": [
    "a=40\n",
    "b=23\n",
    "print(\"subtraction is\",a-b)"
   ]
  },
  {
   "cell_type": "code",
   "execution_count": 8,
   "id": "587b77ff-8287-4c07-9daa-617f8eaff187",
   "metadata": {},
   "outputs": [
    {
     "data": {
      "text/plain": [
       "list"
      ]
     },
     "execution_count": 8,
     "metadata": {},
     "output_type": "execute_result"
    }
   ],
   "source": [
    "abc=[1,2,3,4,5]\n",
    "type(abc)"
   ]
  },
  {
   "cell_type": "code",
   "execution_count": 4,
   "id": "730ed2b9-a68a-4d33-82a9-8a443e6a6fb1",
   "metadata": {},
   "outputs": [
    {
     "name": "stdout",
     "output_type": "stream",
     "text": [
      "7.3\n"
     ]
    }
   ],
   "source": [
    "x=7.3\n",
    "print(x)"
   ]
  },
  {
   "cell_type": "code",
   "execution_count": 6,
   "id": "b206033e-123e-43b7-8902-9fb3e2ece34f",
   "metadata": {},
   "outputs": [
    {
     "name": "stdout",
     "output_type": "stream",
     "text": [
      "30 30 30\n"
     ]
    }
   ],
   "source": [
    "a=b=c=30\n",
    "print(a,b,c)\n"
   ]
  },
  {
   "cell_type": "code",
   "execution_count": 10,
   "id": "0b396c87-daf8-4bbc-a0ce-539fbfb76eb0",
   "metadata": {},
   "outputs": [
    {
     "name": "stdout",
     "output_type": "stream",
     "text": [
      "subtraction is 17\n"
     ]
    }
   ],
   "source": [
    "a=40\n",
    "b=23\n",
    "print(\"subtraction is\",a-b)"
   ]
  },
  {
   "cell_type": "code",
   "execution_count": 11,
   "id": "9a33670a-2674-4f8e-82b2-0ed0b25c96b3",
   "metadata": {},
   "outputs": [
    {
     "name": "stdout",
     "output_type": "stream",
     "text": [
      "modulus 0\n",
      "Exponentaition 100000\n"
     ]
    }
   ],
   "source": [
    "a=10\n",
    "b=5\n",
    "print(\"modulus\",a%b)\n",
    "print(\"Exponentaition\",a**b)"
   ]
  },
  {
   "cell_type": "code",
   "execution_count": 12,
   "id": "08f91f48-54bd-4663-ab73-195e12b53f55",
   "metadata": {},
   "outputs": [
    {
     "name": "stdout",
     "output_type": "stream",
     "text": [
      "29\n"
     ]
    }
   ],
   "source": [
    "a=29\n",
    "b=22\n",
    "print(a)"
   ]
  },
  {
   "cell_type": "code",
   "execution_count": 15,
   "id": "75aacee2-6908-4ff2-85fa-58e8c6bcaa79",
   "metadata": {},
   "outputs": [
    {
     "name": "stdout",
     "output_type": "stream",
     "text": [
      "False\n"
     ]
    }
   ],
   "source": [
    "print(a==b)"
   ]
  },
  {
   "cell_type": "code",
   "execution_count": 16,
   "id": "aa92c0d8-18ed-4390-8139-21e080874ac4",
   "metadata": {},
   "outputs": [
    {
     "name": "stdout",
     "output_type": "stream",
     "text": [
      "True\n"
     ]
    }
   ],
   "source": [
    "print(a>b)"
   ]
  },
  {
   "cell_type": "code",
   "execution_count": 17,
   "id": "a0056c94-a63a-430e-a9c7-2ceac16633d4",
   "metadata": {},
   "outputs": [
    {
     "name": "stdout",
     "output_type": "stream",
     "text": [
      "True\n"
     ]
    }
   ],
   "source": [
    "print(a!=b)"
   ]
  },
  {
   "cell_type": "code",
   "execution_count": 18,
   "id": "450722c4-1d41-450a-9e68-feb21a094e2b",
   "metadata": {},
   "outputs": [
    {
     "name": "stdout",
     "output_type": "stream",
     "text": [
      "True\n"
     ]
    }
   ],
   "source": [
    "#identity operator\n",
    "a=10\n",
    "b=20\n",
    "c=a\n",
    "list=[10,20,30,40]\n",
    "print(a is not b)"
   ]
  },
  {
   "cell_type": "code",
   "execution_count": 19,
   "id": "45d99a35-d86b-4485-a7be-78112fc8e7df",
   "metadata": {
    "scrolled": true
   },
   "outputs": [
    {
     "name": "stdout",
     "output_type": "stream",
     "text": [
      "False\n"
     ]
    }
   ],
   "source": [
    "print(a is b)"
   ]
  },
  {
   "cell_type": "code",
   "execution_count": 21,
   "id": "4c8688be-a950-4302-a294-d8fb0568bd16",
   "metadata": {},
   "outputs": [
    {
     "name": "stdout",
     "output_type": "stream",
     "text": [
      "present in list\n"
     ]
    }
   ],
   "source": [
    "if(a  not in list):\n",
    "    print(\"not in list\")\n",
    "else:\n",
    "    print(\"present in list\")"
   ]
  },
  {
   "cell_type": "code",
   "execution_count": 1,
   "id": "5edbab61-bcf1-4eab-a0fc-7ddab783bfc8",
   "metadata": {},
   "outputs": [
    {
     "name": "stdout",
     "output_type": "stream",
     "text": [
      "False\n"
     ]
    }
   ],
   "source": [
    "a=True\n",
    "b=False\n",
    "print(a and b)"
   ]
  },
  {
   "cell_type": "code",
   "execution_count": 2,
   "id": "7dae21a4-bade-4327-a42e-703ff467d39a",
   "metadata": {
    "scrolled": true
   },
   "outputs": [
    {
     "name": "stdout",
     "output_type": "stream",
     "text": [
      "True\n"
     ]
    }
   ],
   "source": [
    "print(a or b)"
   ]
  },
  {
   "cell_type": "code",
   "execution_count": 3,
   "id": "be419e60-6483-48d0-a2b8-3182eff295ea",
   "metadata": {},
   "outputs": [
    {
     "name": "stdout",
     "output_type": "stream",
     "text": [
      "False\n"
     ]
    }
   ],
   "source": [
    "print(not a)                                                                                 "
   ]
  },
  {
   "cell_type": "code",
   "execution_count": 4,
   "id": "05cc4b8a-7f65-41e6-8e7a-ea2e827b5984",
   "metadata": {},
   "outputs": [
    {
     "name": "stdout",
     "output_type": "stream",
     "text": [
      "True\n"
     ]
    }
   ],
   "source": [
    "print(1 in [1,2,3])"
   ]
  },
  {
   "cell_type": "code",
   "execution_count": 1,
   "id": "dae7bd9c-412c-46d2-8207-450f50364b50",
   "metadata": {},
   "outputs": [
    {
     "name": "stdout",
     "output_type": "stream",
     "text": [
      "b is less than 5\n"
     ]
    }
   ],
   "source": [
    "b=6\n",
    "if b<5:\n",
    "    print(\"b is greater than 5\")\n",
    "else:\n",
    "    print(\"b is less than 5\")"
   ]
  },
  {
   "cell_type": "code",
   "execution_count": 2,
   "id": "9f3446b8-0445-4a5d-9d80-0ff57767f565",
   "metadata": {},
   "outputs": [
    {
     "name": "stdout",
     "output_type": "stream",
     "text": [
      "b is equal to 5\n"
     ]
    }
   ],
   "source": [
    "b=5\n",
    "if b<5:\n",
    "    print(\"b is greater than 5\")\n",
    "elif b==5:\n",
    "    print(\"b is equal to 5\")\n",
    "else:\n",
    "    print(\"b is less than 5\")"
   ]
  },
  {
   "cell_type": "code",
   "execution_count": 5,
   "id": "9c9781a0-7a56-4f4d-ad25-b0411499d18c",
   "metadata": {},
   "outputs": [
    {
     "name": "stdin",
     "output_type": "stream",
     "text": [
      "enter the input -3\n"
     ]
    },
    {
     "name": "stdout",
     "output_type": "stream",
     "text": [
      "negative number\n"
     ]
    }
   ],
   "source": [
    "n=int(input(\"enter the input\"))\n",
    "if(n>0):\n",
    "    print(\"positive number\")\n",
    "elif n==0:\n",
    "    print(\"zero\")\n",
    "else:\n",
    "    print(\"negative number\")"
   ]
  },
  {
   "cell_type": "code",
   "execution_count": 7,
   "id": "0d527c83-9577-4e52-a776-033b02cb5b4d",
   "metadata": {},
   "outputs": [
    {
     "name": "stdin",
     "output_type": "stream",
     "text": [
      "enter the number 69\n"
     ]
    },
    {
     "name": "stdout",
     "output_type": "stream",
     "text": [
      "The grade is : F\n"
     ]
    }
   ],
   "source": [
    "# grade marks\n",
    "\n",
    "n=int(input(\"enter the number\"))\n",
    "if n>=90:\n",
    "    grade=\"A\"\n",
    "elif n>=80:\n",
    "    if n>=85:\n",
    "        grade=\"B+\"\n",
    "    else:\n",
    "        grade=\"B\"\n",
    "elif n>=70:\n",
    "    if n>=75:\n",
    "        grade=\"C+\"\n",
    "    else:\n",
    "        grade=\"C\"\n",
    "else:\n",
    "    grade=\"F\"\n",
    "print(\"The grade is :\",grade)\n",
    "    "
   ]
  },
  {
   "cell_type": "code",
   "execution_count": 9,
   "id": "edc6caed-9149-4d4e-a6ff-da3ddc9ba03c",
   "metadata": {},
   "outputs": [
    {
     "name": "stdin",
     "output_type": "stream",
     "text": [
      "enter the age 35\n",
      "enter the income 35000\n",
      "enter the credit score 750\n"
     ]
    },
    {
     "name": "stdout",
     "output_type": "stream",
     "text": [
      "Eligibble for lone\n"
     ]
    }
   ],
   "source": [
    "#lone eligible\n",
    "\n",
    "age=int(input(\"enter the age\"))\n",
    "income=int(input(\"enter the income\"))\n",
    "credit_score=int(input(\"enter the credit score\"))\n",
    "if age>=21 and age<=65:\n",
    "    if income >= 30000:\n",
    "        if credit_score>=600:\n",
    "            print(\"Eligibble for lone\")\n",
    "        else:\n",
    "            print(\"Not Eligible : credit score is too low\")\n",
    "    else:\n",
    "        print(\"Not Eligible :income is too low\")\n",
    "else:\n",
    "    print(\"Not Eligible : age is too low\")\n",
    "    "
   ]
  },
  {
   "cell_type": "code",
   "execution_count": 11,
   "id": "e06f8076-8863-495d-89ac-80fd69284b0a",
   "metadata": {},
   "outputs": [
    {
     "name": "stdin",
     "output_type": "stream",
     "text": [
      "enter the temperature 28\n",
      "enter the weather cloudy\n"
     ]
    },
    {
     "name": "stdout",
     "output_type": "stream",
     "text": [
      "wear light clothes, but carry a light jacket\n"
     ]
    }
   ],
   "source": [
    "#weather\n",
    "\n",
    "temperature=int(input(\"enter the temperature\"))\n",
    "weather=input(\"enter the weather\")\n",
    "if temperature>25:\n",
    "    if weather==\"sunny\":\n",
    "        print(\"wear light clothes and sunglasses\")\n",
    "    elif weather ==\"cloudy\":\n",
    "        print(\"wear light clothes, but carry a light jacket\")\n",
    "    else:\n",
    "        print(\"wear light clothes, but carry an umbrella\")\n",
    "elif 15 <= temperature<=25:\n",
    "    if weather ==\"sunny\":\n",
    "        print(\"wear a light jacket\")\n",
    "    elif weather==\"cloudy\":\n",
    "        print(\"wear a warm jackett\")\n",
    "    else:\n",
    "        print(\"wear a warm jacket and carry an umbrella\")\n",
    "else:\n",
    "    if weather ==\"sunny\":\n",
    "        print(\"dress warmly , nut sunglasses might be useful\")\n",
    "    else:\n",
    "        print(\"dress warmly and bring a raincoat or umbrella\")\n",
    "\n"
   ]
  },
  {
   "cell_type": "code",
   "execution_count": 1,
   "id": "b08e1b60-204d-41d2-90d6-5729aefb2905",
   "metadata": {},
   "outputs": [
    {
     "name": "stdout",
     "output_type": "stream",
     "text": [
      "sum of even numbers is: 40\n"
     ]
    }
   ],
   "source": [
    "#Loops\n",
    "# Program for sum of even numbers in a list\n",
    "\n",
    "\n",
    "numbers=[3,5,8,12,15,18,7,2]\n",
    "sum_even=0\n",
    "for i in numbers:\n",
    "    if i%2==0:\n",
    "        sum_even+=i\n",
    "print(\"sum of even numbers is:\",sum_even)\n",
    "\n"
   ]
  },
  {
   "cell_type": "code",
   "execution_count": 1,
   "id": "6566e899-6c17-47d4-a24d-9e19fe274959",
   "metadata": {},
   "outputs": [
    {
     "name": "stdout",
     "output_type": "stream",
     "text": [
      "Words longer then 5 characters 8\n"
     ]
    }
   ],
   "source": [
    "# Counting Words whoose Length is greater than 5\n",
    "\n",
    "\n",
    "words=['apple','banana','kiwi','strawberry','pineapple','papaya','watermelon','grapes','dragonfruit']\n",
    "min_length=5\n",
    "count=0\n",
    "for i in words:\n",
    "    if len(i) >= min_length:\n",
    "        count+=1\n",
    "print(\"Words longer then\",min_length,\"characters\",count)\n"
   ]
  },
  {
   "cell_type": "code",
   "execution_count": 5,
   "id": "fb7e27bc-dd83-4534-b6b6-2a825b3ede78",
   "metadata": {},
   "outputs": [
    {
     "name": "stdout",
     "output_type": "stream",
     "text": [
      "Maximum odd is 99\n"
     ]
    }
   ],
   "source": [
    "#finding the maximim odd number in a list of integerk\n",
    "\n",
    "numbers=[3,5,53,23,44,68,99,83,24,66]\n",
    "max_odd=0\n",
    "for num in numbers:\n",
    "    if num%2!=0:\n",
    "        if num>max_odd:\n",
    "            max_odd =num\n",
    "print('Maximum odd is',max_odd)"
   ]
  },
  {
   "cell_type": "code",
   "execution_count": 6,
   "id": "a47b4391-aa66-4d56-a081-e6c108b1d67a",
   "metadata": {},
   "outputs": [
    {
     "name": "stdout",
     "output_type": "stream",
     "text": [
      "Product of positive numbers: 56\n"
     ]
    }
   ],
   "source": [
    "# product of positive numbers\n",
    "\n",
    "\n",
    "numbers=[-1,2,-3,4,-5,7,-8]\n",
    "product=1\n",
    "for num in numbers:\n",
    "    if num>0:\n",
    "        product*=num\n",
    "print(\"Product of positive numbers:\",product)"
   ]
  },
  {
   "cell_type": "code",
   "execution_count": 7,
   "id": "4a348959-9a33-4d38-826e-e257fe10c421",
   "metadata": {},
   "outputs": [
    {
     "name": "stdin",
     "output_type": "stream",
     "text": [
      "Enter the number 4\n"
     ]
    },
    {
     "name": "stdout",
     "output_type": "stream",
     "text": [
      "Square of number is: 16\n"
     ]
    }
   ],
   "source": [
    "#square up if whe the num is divided by 2 remainder=1\n",
    "\n",
    "n=int(input(\"Enter the number\"))\n",
    "if n%2==1:\n",
    "    n=n**2\n",
    "print(\"Square of number is:\",n)"
   ]
  },
  {
   "cell_type": "code",
   "execution_count": 18,
   "id": "30407a59-9192-4b7c-904f-976ba77a3921",
   "metadata": {},
   "outputs": [
    {
     "name": "stdout",
     "output_type": "stream",
     "text": [
      "the number -1 not positive\n",
      "positive 2  cube number is:  8\n",
      "the number -3 not positive\n",
      "positive 4  cube number is:  64\n",
      "the number -5 not positive\n",
      "positive 17  cube number is:  4913\n"
     ]
    }
   ],
   "source": [
    "# write a python program to cube the positive numbers\n",
    "\n",
    "numbers=[-1,2,-3,4,-5,17]\n",
    "cube=0\n",
    "for num in numbers:\n",
    "    if num>0:\n",
    "        cube=num**3\n",
    "        print(\"positive\",num,\" cube number is: \",cube)\n",
    "    else:\n",
    "        print(\"the number\",num,\"not positive\")\n",
    "   "
   ]
  },
  {
   "cell_type": "code",
   "execution_count": 27,
   "id": "370019aa-8989-44ce-8785-260e052ad1de",
   "metadata": {},
   "outputs": [
    {
     "name": "stdin",
     "output_type": "stream",
     "text": [
      "enter the number 10\n"
     ]
    },
    {
     "name": "stdout",
     "output_type": "stream",
     "text": [
      "0\n",
      "2\n",
      "4\n",
      "6\n",
      "8\n"
     ]
    }
   ],
   "source": [
    "#to print even numbers based on users input\n",
    "\n",
    "n=int(input(\"enter the number\"))\n",
    "for i in range(n):\n",
    "    if i%2==0:\n",
    "        print(i)"
   ]
  },
  {
   "cell_type": "code",
   "execution_count": 28,
   "id": "0c67052b-280e-4c54-8d21-2d1b47fb0dc8",
   "metadata": {},
   "outputs": [
    {
     "name": "stdin",
     "output_type": "stream",
     "text": [
      "enter the number 10\n"
     ]
    },
    {
     "name": "stdout",
     "output_type": "stream",
     "text": [
      "1\n",
      "3\n",
      "5\n",
      "7\n",
      "9\n"
     ]
    }
   ],
   "source": [
    "# to print odd numbers based on users input\n",
    "\n",
    "n=int(input(\"enter the number\"))\n",
    "for i in range(n):\n",
    "    if i%2!=0:\n",
    "        print(i)"
   ]
  },
  {
   "cell_type": "code",
   "execution_count": 26,
   "id": "32a99248-b989-458b-9166-82d47932cc18",
   "metadata": {
    "scrolled": true
   },
   "outputs": [
    {
     "name": "stdin",
     "output_type": "stream",
     "text": [
      "enter the number 100\n"
     ]
    },
    {
     "name": "stdout",
     "output_type": "stream",
     "text": [
      "1\n",
      "5\n",
      "9\n",
      "13\n",
      "17\n",
      "21\n",
      "25\n",
      "29\n",
      "33\n",
      "37\n",
      "41\n",
      "45\n",
      "49\n",
      "53\n",
      "57\n",
      "61\n",
      "65\n",
      "69\n",
      "73\n",
      "77\n",
      "81\n",
      "85\n",
      "89\n",
      "93\n",
      "97\n"
     ]
    }
   ],
   "source": [
    "#to print numbers according to indexing based on users input \n",
    "\n",
    "n=int(input(\"enter the number\"))\n",
    "for i in range(1,n,4):\n",
    "        print(i)"
   ]
  },
  {
   "cell_type": "markdown",
   "id": "f2343629-5eda-40d1-97bc-1b2bb7f88329",
   "metadata": {},
   "source": [
    "#Data Structures "
   ]
  },
  {
   "cell_type": "markdown",
   "id": "26c031b3-209c-4114-b17e-b6dda59fd48d",
   "metadata": {},
   "source": [
    "Lists \n",
    "Python Lists are just like the arrays, declared in other languages which is an ordered collection of data.\n",
    "It is very flexible as the items in a list do not need to be of the same type\n",
    "List is Mutable and it allow the multiple datatypes.\n",
    "Lists can hold items of various data tyes,but most often they contain a sequence of element of the same type.\n",
    "Syntax: list_name=[item1,item2,....]"
   ]
  },
  {
   "cell_type": "code",
   "execution_count": null,
   "id": "e83b2d07-8846-48ce-9c04-26c170780027",
   "metadata": {},
   "outputs": [],
   "source": [
    "Difference between = and ==\n",
    "= use to assign a value to variable\n",
    "== use to check the similarities of two variables"
   ]
  },
  {
   "cell_type": "code",
   "execution_count": 1,
   "id": "a6745e46-9ce9-454b-8f5d-7cf7e46c7dcb",
   "metadata": {},
   "outputs": [
    {
     "name": "stdout",
     "output_type": "stream",
     "text": [
      "['apple', 'banana', 'grapes', 'mango']\n"
     ]
    }
   ],
   "source": [
    "#Creating a list\n",
    "fruit_list=[\"apple\",\"banana\",\"grapes\",\"mango\"]\n",
    "print(fruit_list)"
   ]
  },
  {
   "cell_type": "code",
   "execution_count": 6,
   "id": "99b32508-c446-48b7-bd44-1347c01e70db",
   "metadata": {},
   "outputs": [
    {
     "data": {
      "text/plain": [
       "['apple', 'banana', 'grapes', 'mango', 'orange', 'orange', 'orange', 'orange']"
      ]
     },
     "execution_count": 6,
     "metadata": {},
     "output_type": "execute_result"
    }
   ],
   "source": [
    "fruit_list.append(\"orange\")\n",
    "fruit_list"
   ]
  },
  {
   "cell_type": "code",
   "execution_count": 7,
   "id": "75b276c7-b740-4b23-b607-416746101260",
   "metadata": {},
   "outputs": [
    {
     "data": {
      "text/plain": [
       "['apple', 'banana', 'grapes', 'mango', 'orange', 'orange', 'orange']"
      ]
     },
     "execution_count": 7,
     "metadata": {},
     "output_type": "execute_result"
    }
   ],
   "source": [
    "fruit_list.remove(\"orange\")"
   ]
  },
  {
   "cell_type": "markdown",
   "id": "2f0b3850-24f8-4957-a3d2-89b8dac671f7",
   "metadata": {},
   "source": [
    "# Indexing\n",
    "# Definition:\n",
    "# Indexing refers to acccessing individual elements of a sequence (like a list) using its position(index).\n",
    "# Python uses 0-based indexing."
   ]
  },
  {
   "cell_type": "markdown",
   "id": "d6d68f62-73a1-48aa-86fa-d77202942305",
   "metadata": {},
   "source": [
    "\n",
    "# examples of Indexing\n",
    "# Accessing  a single element\n",
    "# in python the indexing starts from \"0\" and increses\n",
    "# if we do forward indexing\n",
    "# in python the indexing starts from\"-1\"\n",
    "# and increses(negetively) if we do backward indexing"
   ]
  },
  {
   "cell_type": "code",
   "execution_count": 9,
   "id": "06d52643-667d-4b1f-8755-3575591e6e7b",
   "metadata": {},
   "outputs": [
    {
     "name": "stdout",
     "output_type": "stream",
     "text": [
      "30\n"
     ]
    }
   ],
   "source": [
    "numbers=[10,20,30,40,50]\n",
    "print(numbers[2])"
   ]
  },
  {
   "cell_type": "code",
   "execution_count": 10,
   "id": "6431e0ab-4488-4d53-9458-61729d86f1fa",
   "metadata": {
    "scrolled": true
   },
   "outputs": [
    {
     "name": "stdout",
     "output_type": "stream",
     "text": [
      "[10, 20, 30, 40, 50]\n"
     ]
    }
   ],
   "source": [
    "print(numbers[:])"
   ]
  },
  {
   "cell_type": "code",
   "execution_count": 16,
   "id": "a5ea9674-174d-47c5-96ac-54ee2dc5e82e",
   "metadata": {
    "scrolled": true
   },
   "outputs": [
    {
     "name": "stdout",
     "output_type": "stream",
     "text": [
      "[50, 40, 30, 20, 10]\n"
     ]
    }
   ],
   "source": [
    "print(numbers[::-1])"
   ]
  },
  {
   "cell_type": "code",
   "execution_count": 17,
   "id": "404e2713-8a97-40ff-82b9-816e7751d5cc",
   "metadata": {},
   "outputs": [
    {
     "name": "stdout",
     "output_type": "stream",
     "text": [
      "6\n"
     ]
    }
   ],
   "source": [
    "#Access an Element in a Nested List\n",
    "\n",
    "nested_list=[[1,2],[3,4],[5,6]]\n",
    "print(nested_list[-1][1])"
   ]
  },
  {
   "cell_type": "code",
   "execution_count": 18,
   "id": "c9ce8198-4786-4d5f-b075-4c9b8bc3c6e9",
   "metadata": {},
   "outputs": [
    {
     "data": {
      "text/plain": [
       "['apple', 'banana', 'watermelon']"
      ]
     },
     "execution_count": 18,
     "metadata": {},
     "output_type": "execute_result"
    }
   ],
   "source": [
    "#Modify an Element using Indexing\n",
    "\n",
    "fruits=[\"apple\",\"banana\",\"grapes\"]\n",
    "fruits[2]=\"watermelon\"\n",
    "fruits"
   ]
  },
  {
   "cell_type": "code",
   "execution_count": 4,
   "id": "953646db-d656-43da-9307-c7c563b876c3",
   "metadata": {},
   "outputs": [
    {
     "name": "stdout",
     "output_type": "stream",
     "text": [
      "Index 0: Alice\n",
      "Index 1: Bob\n",
      "Index 2: Charlie\n"
     ]
    }
   ],
   "source": [
    "#Iterate Using Index\n",
    "names=[\"Alice\",\"Bob\",\"Charlie\"]\n",
    "for i in range(len(names)):\n",
    "    print(f\"Index {i}: {names[i]}\")"
   ]
  },
  {
   "cell_type": "code",
   "execution_count": 1,
   "id": "811c4a3a-fd49-428b-a427-a01875e5c28f",
   "metadata": {},
   "outputs": [
    {
     "name": "stdout",
     "output_type": "stream",
     "text": [
      "['h', 'w', 'p', 'r']\n"
     ]
    }
   ],
   "source": [
    "#Create a List of First Letters\n",
    "\n",
    "words=[\"hello\",\"world\",\"python\",\"rocks\"]\n",
    "first_letters=[i[0] for i in words]\n",
    "print(first_letters)"
   ]
  },
  {
   "cell_type": "code",
   "execution_count": 6,
   "id": "a899c559-3985-41ef-a32a-307ebdf78958",
   "metadata": {},
   "outputs": [
    {
     "name": "stdout",
     "output_type": "stream",
     "text": [
      "['1', '2', '3', '4', '5', '6']\n"
     ]
    }
   ],
   "source": [
    "#Extract Digits from a String\n",
    "\n",
    "#isdigit() is the function will return the digit from a string\n",
    "\n",
    "text=\"abc123xyz456\"\n",
    "digits=[char for char in text if char.isdigit()]\n",
    "print(digits)    \n",
    " #   or\n",
    "#digits = []\n",
    "#for char in text:               # loop over each character\n",
    " #   if char.isdigit():          # check if it's a digit\n",
    "  #      digits.append(char)     # add it to the list"
   ]
  },
  {
   "cell_type": "code",
   "execution_count": 4,
   "id": "dd21787f-e6ab-4f0a-9983-8e0fe2a96fb2",
   "metadata": {},
   "outputs": [
    {
     "name": "stdout",
     "output_type": "stream",
     "text": [
      "['banana', 'cherry']\n"
     ]
    }
   ],
   "source": [
    "#Apply a Condition on Strings\n",
    "\n",
    "words=[\"apple\",\"banana\",\"cherry\",\"date\"]\n",
    "long_words=[i for i in words if len(i)>5]\n",
    "print(long_words)"
   ]
  },
  {
   "cell_type": "code",
   "execution_count": 5,
   "id": "71c8df33-d0e7-43a0-bfbe-d48e3ef3ddab",
   "metadata": {},
   "outputs": [
    {
     "name": "stdout",
     "output_type": "stream",
     "text": [
      "[('red', 'circle'), ('red', 'square'), ('green', 'circle'), ('green', 'square')]\n"
     ]
    }
   ],
   "source": [
    "#cartesian product\n",
    "\n",
    "colors=[\"red\",\"green\"]\n",
    "shapes=[\"circle\",\"square\"]\n",
    "combinations=[(color,shape) for color in colors for shape in shapes]\n",
    "print(combinations)"
   ]
  },
  {
   "cell_type": "code",
   "execution_count": 6,
   "id": "818e3ca4-3f51-4d32-ac71-09e3c25d153e",
   "metadata": {},
   "outputs": [
    {
     "name": "stdout",
     "output_type": "stream",
     "text": [
      "[1, 1, 2, 6, 24, 120]\n"
     ]
    }
   ],
   "source": [
    "#List of Factorials\n",
    "\n",
    "import math\n",
    "factorials=[math.factorial(x) for x in range(6)]\n",
    "print(factorials)"
   ]
  },
  {
   "cell_type": "code",
   "execution_count": 1,
   "id": "0a5ac763-7d6f-448d-8cdc-8a6849cc03a2",
   "metadata": {},
   "outputs": [
    {
     "name": "stdout",
     "output_type": "stream",
     "text": [
      "[1, 2, 3, 4, 5, 6]\n"
     ]
    }
   ],
   "source": [
    "#Flatten a Matrix\n",
    "\n",
    "matrix=[[1,2],[3,4],[5,6]]\n",
    "flattened=[item for row in matrix for item in row]\n",
    "print(flattened)"
   ]
  },
  {
   "cell_type": "code",
   "execution_count": 2,
   "id": "5b5223b8-65eb-4a94-b74d-6b250a944083",
   "metadata": {},
   "outputs": [
    {
     "name": "stdout",
     "output_type": "stream",
     "text": [
      "[0, 3, 4, 9, 8, 15, 12, 21, 16, 27]\n"
     ]
    }
   ],
   "source": [
    "#Transform Numbers with a conndition\n",
    "numbers=range(10)\n",
    "transformed=[x*2 if x%2==0 else x*3 for x in numbers]\n",
    "print(transformed)"
   ]
  },
  {
   "cell_type": "code",
   "execution_count": 3,
   "id": "0bbdd965-17bd-4e00-89f0-86285f3fb5d1",
   "metadata": {},
   "outputs": [
    {
     "name": "stdout",
     "output_type": "stream",
     "text": [
      "['a', 'b', 'c', 'd']\n"
     ]
    }
   ],
   "source": [
    "#Slice the First Few Elements\n",
    "letters=['a','b','c','d','e']\n",
    "print(letters[0:4])"
   ]
  },
  {
   "cell_type": "code",
   "execution_count": 5,
   "id": "dd9949bf-dd2f-4d0c-afb4-a7ef44798b23",
   "metadata": {},
   "outputs": [
    {
     "name": "stdout",
     "output_type": "stream",
     "text": [
      "[3, 4, 5]\n",
      "[1, 2, 3, 4, 5]\n"
     ]
    }
   ],
   "source": [
    "#Slice from the middle to the end\n",
    "numbers=[1,2,3,4,5]\n",
    "print(numbers[2:])\n",
    "print(numbers[:])"
   ]
  },
  {
   "cell_type": "code",
   "execution_count": 6,
   "id": "2f35229d-b150-4087-b80d-010c67debfc4",
   "metadata": {},
   "outputs": [
    {
     "name": "stdout",
     "output_type": "stream",
     "text": [
      "[0, 2, 4, 6, 8]\n"
     ]
    }
   ],
   "source": [
    "#skip Elements Using Step\n",
    "\n",
    "numbers=[0,1,2,3,4,5,6,7,8,9]\n",
    "print(numbers[::2])"
   ]
  },
  {
   "cell_type": "code",
   "execution_count": 8,
   "id": "3281b509-3e42-4b02-9fc7-f3043e634e3f",
   "metadata": {},
   "outputs": [
    {
     "name": "stdout",
     "output_type": "stream",
     "text": [
      "[50, 40, 30, 20, 10]\n"
     ]
    }
   ],
   "source": [
    "#Reverse the list with slicing\n",
    "\n",
    "data=[10,20,30,40,50]\n",
    "print(data[::-1])"
   ]
  },
  {
   "cell_type": "code",
   "execution_count": 10,
   "id": "7a14a957-f681-49a9-ab2d-fe6f102197da",
   "metadata": {},
   "outputs": [
    {
     "name": "stdout",
     "output_type": "stream",
     "text": [
      "[[1, 2, 3], [4, 5, 6], [7, 8, 9]]\n"
     ]
    }
   ],
   "source": [
    "#Slice a Subset of  a nested list\n",
    "#i want to print[123]\n",
    "# i want to print [1,2,3] [4,5,6] [7,8,8]\n",
    "\n",
    "matrix=[\n",
    "    [1,2,3],\n",
    "    [4,5,6],\n",
    "    [7,8,9]\n",
    "]\n",
    "print(matrix[:])"
   ]
  },
  {
   "cell_type": "code",
   "execution_count": 12,
   "id": "08a89809-f1a3-4e39-b13a-350f2b155873",
   "metadata": {},
   "outputs": [
    {
     "name": "stdout",
     "output_type": "stream",
     "text": [
      "[5, 6]\n"
     ]
    }
   ],
   "source": [
    "print(matrix[1][1:3])"
   ]
  },
  {
   "cell_type": "code",
   "execution_count": 13,
   "id": "1e4dbd3c-d599-4235-aa7e-b0dc56825842",
   "metadata": {},
   "outputs": [
    {
     "name": "stdout",
     "output_type": "stream",
     "text": [
      "5 6\n"
     ]
    }
   ],
   "source": [
    "print(matrix[1][1],matrix[1][2])"
   ]
  },
  {
   "cell_type": "code",
   "execution_count": 14,
   "id": "6e08959f-ab64-49e6-9a47-9b7c98201343",
   "metadata": {},
   "outputs": [
    {
     "name": "stdout",
     "output_type": "stream",
     "text": [
      "[3] [6] [9]\n"
     ]
    }
   ],
   "source": [
    "# to print 3,6,9\n",
    "\n",
    "print(matrix[0][2:],matrix[1][2:],matrix[2][2:])"
   ]
  },
  {
   "cell_type": "code",
   "execution_count": 15,
   "id": "5b418c60-6e42-4993-8c8b-1008a980d5c2",
   "metadata": {},
   "outputs": [
    {
     "name": "stdout",
     "output_type": "stream",
     "text": [
      "[3, 6, 9]\n"
     ]
    }
   ],
   "source": [
    "print([row[2] for row in matrix])"
   ]
  },
  {
   "cell_type": "code",
   "execution_count": 16,
   "id": "aef3f451-7d67-4189-828e-4c7adc5af524",
   "metadata": {},
   "outputs": [
    {
     "name": "stdout",
     "output_type": "stream",
     "text": [
      "1 5 9\n"
     ]
    }
   ],
   "source": [
    "#to print 1,5,9\n",
    "print(matrix[0][0],matrix[1][1],matrix[2][2])"
   ]
  },
  {
   "cell_type": "code",
   "execution_count": 17,
   "id": "49b36bef-b899-4e90-ac4c-a551a6b5a333",
   "metadata": {},
   "outputs": [
    {
     "name": "stdout",
     "output_type": "stream",
     "text": [
      "[3, 5, 7]\n"
     ]
    }
   ],
   "source": [
    "#to print 3,5,7\n",
    "\n",
    "\n",
    "print([matrix[i][2-i] for i in range(len(matrix))])"
   ]
  },
  {
   "cell_type": "code",
   "execution_count": 19,
   "id": "1f4995e5-427d-4205-b74c-8bcdbe3a301c",
   "metadata": {},
   "outputs": [
    {
     "name": "stdout",
     "output_type": "stream",
     "text": [
      "3 5 7\n"
     ]
    }
   ],
   "source": [
    "print(matrix[0][2],matrix[1][1],matrix[2][0])"
   ]
  },
  {
   "cell_type": "code",
   "execution_count": 25,
   "id": "54af5135-820e-4ff1-b7fc-11c9885d6d19",
   "metadata": {},
   "outputs": [
    {
     "name": "stdout",
     "output_type": "stream",
     "text": [
      "['a', 'b', 'd', 'e']\n"
     ]
    }
   ],
   "source": [
    "items=['a','b','c','d','e']\n",
    "items=items[:2]+items[3:]\n",
    "print(items)"
   ]
  },
  {
   "cell_type": "code",
   "execution_count": 26,
   "id": "9b102f7d-2ee1-4d84-80ea-ec089ebe6fc4",
   "metadata": {},
   "outputs": [
    {
     "name": "stdout",
     "output_type": "stream",
     "text": [
      "['a', 'b', 'c', 'e']\n"
     ]
    }
   ],
   "source": [
    "items_new=['a','b','c','d','e']\n",
    "items_2=items_new[:3]+items_new[4:]\n",
    "print(items_2)"
   ]
  }
 ],
 "metadata": {
  "kernelspec": {
   "display_name": "Python [conda env:base] *",
   "language": "python",
   "name": "conda-base-py"
  },
  "language_info": {
   "codemirror_mode": {
    "name": "ipython",
    "version": 3
   },
   "file_extension": ".py",
   "mimetype": "text/x-python",
   "name": "python",
   "nbconvert_exporter": "python",
   "pygments_lexer": "ipython3",
   "version": "3.12.7"
  }
 },
 "nbformat": 4,
 "nbformat_minor": 5
}
